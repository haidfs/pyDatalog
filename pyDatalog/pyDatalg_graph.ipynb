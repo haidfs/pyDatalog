{
 "cells": [
  {
   "cell_type": "markdown",
   "metadata": {},
   "source": [
    "# pyDatalog通过知识推理可以实现的图算法\n",
    "## 在图、树、层次结构均可使用\n",
    "##### 可以从一个节点到达别的哪些节点\n",
    "##### 两个节点之间可能的路径是什么\n",
    "##### 以更低的时间复杂度给出两个节点之间的一条路径\n",
    "##### 给定代价函数，两个节点之间的最短路径"
   ]
  },
  {
   "cell_type": "code",
   "execution_count": 1,
   "metadata": {},
   "outputs": [],
   "source": [
    "from pyDatalog import pyDatalog\n",
    "#            4\n",
    "#           /\n",
    "#    1 -  2 -  3\n",
    "#       /  \\\n",
    "#      7    5\n",
    "#      \\   /\n",
    "#        6     8-9\n",
    "pyDatalog.create_terms('can_reach,X,Y,Z,link,shortest_path')\n",
    "pyDatalog.create_terms('all_path,P,P2,path,safe_path,path_with_cost,C,C2')\n",
    "+link(1,2)\n",
    "+link(2,3)\n",
    "+link(2,4)\n",
    "+link(2,5)\n",
    "+link(5,6)\n",
    "+link(6,7)\n",
    "+link(7,2)\n",
    "+link(8,9)"
   ]
  },
  {
   "cell_type": "code",
   "execution_count": 2,
   "metadata": {},
   "outputs": [
    {
     "name": "stdout",
     "output_type": "stream",
     "text": [
      "Y\n",
      "-\n",
      "2\n"
     ]
    }
   ],
   "source": [
    "#无向图双向关系\n",
    "link(X,Y) <= link(Y,X)\n",
    "print (link(1,Y))"
   ]
  },
  {
   "cell_type": "code",
   "execution_count": 3,
   "metadata": {},
   "outputs": [
    {
     "name": "stdout",
     "output_type": "stream",
     "text": [
      "can reach from 1\n",
      "Y\n",
      "-\n",
      "2\n",
      "3\n",
      "4\n",
      "5\n",
      "6\n",
      "7\n"
     ]
    }
   ],
   "source": [
    "print(\"can reach from 1\")\n",
    "can_reach(X,Y) <= can_reach(X,Z) & link(Z,Y) & (X!=Y)\n",
    "can_reach(X,Y) <= link(X,Y)\n",
    "print (can_reach(1,Y))"
   ]
  },
  {
   "cell_type": "code",
   "execution_count": 4,
   "metadata": {},
   "outputs": [
    {
     "name": "stdout",
     "output_type": "stream",
     "text": [
      "can't reach from 1\n",
      "X | Y\n",
      "--|--\n",
      "9 | 8\n",
      "8 | 9\n"
     ]
    }
   ],
   "source": [
    "print(\"can't reach from 1\")\n",
    "print(link(X,Y) & (~can_reach(1,X)) & (X !=1))"
   ]
  },
  {
   "cell_type": "code",
   "execution_count": 5,
   "metadata": {},
   "outputs": [
    {
     "name": "stdout",
     "output_type": "stream",
     "text": [
      "all path from/to 1\n",
      "X | P        \n",
      "--|----------\n",
      "2 | ()       \n",
      "7 | (2,)     \n",
      "5 | (2,)     \n",
      "4 | (2,)     \n",
      "3 | (2,)     \n",
      "6 | (7, 2)   \n",
      "6 | (5, 2)   \n",
      "5 | (6, 7, 2)\n",
      "7 | (6, 5, 2)\n"
     ]
    }
   ],
   "source": [
    "print(\"all path from/to 1\")\n",
    "#能够link的节点即意味着可达，记录通过的节点\n",
    "all_path(X,Y,P) <= all_path(X,Z,P2) & link(Z,Y) & (X!=Y) & (X._not_in(P2)) & (Y._not_in(P2)) & (P==P2+[Z])\n",
    "all_path(X,Y,P) <= link(X,Y) & (P==[])\n",
    "print (all_path(X,1,P))"
   ]
  },
  {
   "cell_type": "code",
   "execution_count": 6,
   "metadata": {},
   "outputs": [
    {
     "name": "stdout",
     "output_type": "stream",
     "text": [
      "no path from 1\n",
      "X | Y\n",
      "--|--\n",
      "9 | 8\n",
      "8 | 9\n"
     ]
    }
   ],
   "source": [
    "print(\"no path from 1\")\n",
    "print(link(X,Y) & (~all_path(1,X,P)) & (X !=1))"
   ]
  },
  {
   "cell_type": "code",
   "execution_count": 8,
   "metadata": {},
   "outputs": [
    {
     "name": "stdout",
     "output_type": "stream",
     "text": [
      "a path from / to 1\n",
      "Y | P     \n",
      "--|-------\n",
      "2 | ()    \n",
      "4 | (2,)  \n",
      "5 | (2,)  \n",
      "3 | (2,)  \n",
      "6 | (2, 5)\n",
      "7 | (2,)  \n",
      "1 | (2,)  \n"
     ]
    }
   ],
   "source": [
    "print(\"a path from / to 1\")\n",
    "(path[X,Y]==P) <= ((path[X,Z]==P2) &  link(Z,Y)  & (P==P2+[Z])) \n",
    "# 下面这行的注释应该会存在问题，是不安全的优化，会存在X和Y相同的情况\n",
    "# & (X!=Y) & (X._not_in(P2)) & (Y._not_in(P2)) \n",
    "#                    & (P==P2+[Z])) \n",
    "(path[X,Y]==P) <= link(X,Y) & (P==[])\n",
    "\n",
    "print (path[1,Y]==P)"
   ]
  },
  {
   "cell_type": "code",
   "execution_count": 9,
   "metadata": {},
   "outputs": [
    {
     "name": "stdout",
     "output_type": "stream",
     "text": [
      "not one path from 1\n",
      "X | Y\n",
      "--|--\n",
      "9 | 8\n",
      "8 | 9\n"
     ]
    }
   ],
   "source": [
    "#加上了X不等于Y的条件\n",
    "print(\"not one path from 1\")\n",
    "(safe_path[X,Y]==P) <= ((safe_path[X,Z]==P2) &  link(Z,Y)\n",
    "                   # next line needed to avoid infinite loop in negation\n",
    "                   & (X!=Y) & (X._not_in(P2)) & (Y._not_in(P2)) \n",
    "                   & (P==P2+[Z])) \n",
    "(safe_path[X,Y]==P) <= link(X,Y) & (P==[])\n",
    "print(link(X,Y) & (X !=1) & (~(safe_path[X,1]==P)) )"
   ]
  },
  {
   "cell_type": "code",
   "execution_count": 11,
   "metadata": {},
   "outputs": [
    {
     "name": "stdout",
     "output_type": "stream",
     "text": [
      "path with cost from / to 1\n",
      "Y | P         | C\n",
      "--|-----------|--\n",
      "2 | ()        | 0\n",
      "3 | (2,)      | 1\n",
      "5 | (2,)      | 1\n",
      "4 | (2,)      | 1\n",
      "7 | (2,)      | 1\n",
      "6 | (2, 5)    | 2\n",
      "6 | (2, 7)    | 2\n",
      "7 | (2, 5, 6) | 3\n",
      "5 | (2, 7, 6) | 3\n",
      "Y | P         | C\n",
      "--|-----------|--\n",
      "2 | ()        | 0\n",
      "7 | (2,)      | 1\n",
      "5 | (2,)      | 1\n",
      "4 | (2,)      | 1\n",
      "3 | (2,)      | 1\n",
      "6 | (7, 2)    | 2\n",
      "6 | (5, 2)    | 2\n",
      "5 | (6, 7, 2) | 3\n",
      "7 | (6, 5, 2) | 3\n"
     ]
    }
   ],
   "source": [
    "print (\"path with cost from / to 1\")\n",
    "(path_with_cost(X,Y,P,C)) <= (path_with_cost(X,Z,P2,C2)) & link(Z,Y) & (X!=Y) & (X._not_in(P2)) & (Y._not_in(P2)) & (P==P2+[Z]) & (C==C2+1) \n",
    "(path_with_cost(X,Y,P,C)) <= link(X,Y) & (P==[]) & (C==0)\n",
    "print (path_with_cost(1,Y,P,C))\n",
    "print (path_with_cost(Y,1,P,C))\n"
   ]
  },
  {
   "cell_type": "code",
   "execution_count": 12,
   "metadata": {},
   "outputs": [
    {
     "name": "stdout",
     "output_type": "stream",
     "text": [
      "shortest path from / to 1\n",
      "Y | P     \n",
      "--|-------\n",
      "7 | (2,)  \n",
      "6 | (2, 5)\n",
      "5 | (2,)  \n",
      "4 | (2,)  \n",
      "3 | (2,)  \n",
      "2 | ()    \n",
      "X | P     \n",
      "--|-------\n",
      "7 | (2,)  \n",
      "6 | (7, 2)\n",
      "5 | (2,)  \n",
      "4 | (2,)  \n",
      "3 | (2,)  \n",
      "2 | ()    \n"
     ]
    }
   ],
   "source": [
    "print (\"shortest path from / to 1\")\n",
    "(shortest_path[X,Y]==min_(P, order_by=C)) <= (path_with_cost(X,Y,P,C))\n",
    "\n",
    "print (shortest_path[1,Y]==P) \n",
    "print (shortest_path[X,1]==P)"
   ]
  },
  {
   "cell_type": "code",
   "execution_count": null,
   "metadata": {},
   "outputs": [],
   "source": []
  }
 ],
 "metadata": {
  "kernelspec": {
   "display_name": "Python 3",
   "language": "python",
   "name": "python3"
  },
  "language_info": {
   "codemirror_mode": {
    "name": "ipython",
    "version": 3
   },
   "file_extension": ".py",
   "mimetype": "text/x-python",
   "name": "python",
   "nbconvert_exporter": "python",
   "pygments_lexer": "ipython3",
   "version": "3.6.5"
  }
 },
 "nbformat": 4,
 "nbformat_minor": 2
}
