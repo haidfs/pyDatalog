{
 "cells": [
  {
   "cell_type": "markdown",
   "metadata": {},
   "source": [
    "# pyDatalog使用"
   ]
  },
  {
   "cell_type": "code",
   "execution_count": 1,
   "metadata": {},
   "outputs": [
    {
     "name": "stdout",
     "output_type": "stream",
     "text": [
      "N\n",
      "-\n",
      "6\n"
     ]
    }
   ],
   "source": [
    "from pyDatalog import pyDatalog\n",
    "pyDatalog.create_terms('factorial, N')\n",
    "factorial[N] = N*factorial[N-1] \n",
    "factorial[1] = 1 \n",
    "print(factorial[3]==N)  "
   ]
  },
  {
   "cell_type": "code",
   "execution_count": 2,
   "metadata": {},
   "outputs": [
    {
     "name": "stdout",
     "output_type": "stream",
     "text": [
      "X \n",
      "--\n",
      "康熙\n"
     ]
    }
   ],
   "source": [
    "# 一个小推理规则\n",
    "pyDatalog.create_terms('X,Y,Z,father,fatherOf,grandfatherOf')\n",
    "(grandfatherOf[X] == Z) <= ((fatherOf[X]==Y) & (fatherOf[Y]==Z))\n",
    "fatherOf[\"乾隆\"] = \"雍正\"\n",
    "fatherOf[\"雍正\"] = \"康熙\"\n",
    "print(grandfatherOf[\"乾隆\"] == X)"
   ]
  },
  {
   "cell_type": "markdown",
   "metadata": {},
   "source": [
    "## 变量与表达式"
   ]
  },
  {
   "cell_type": "code",
   "execution_count": 3,
   "metadata": {},
   "outputs": [
    {
     "name": "stdout",
     "output_type": "stream",
     "text": [
      "X\n",
      "-\n",
      "1\n"
     ]
    }
   ],
   "source": [
    "print(X==1)"
   ]
  },
  {
   "cell_type": "code",
   "execution_count": 4,
   "metadata": {},
   "outputs": [
    {
     "name": "stdout",
     "output_type": "stream",
     "text": [
      "X    | Y    \n",
      "-----|------\n",
      "True | False\n"
     ]
    }
   ],
   "source": [
    "print((X==True) & (Y==False))"
   ]
  },
  {
   "cell_type": "code",
   "execution_count": 5,
   "metadata": {},
   "outputs": [
    {
     "name": "stdout",
     "output_type": "stream",
     "text": [
      "[]\n"
     ]
    }
   ],
   "source": [
    "print((X==True) & (X==False))"
   ]
  },
  {
   "cell_type": "code",
   "execution_count": 6,
   "metadata": {},
   "outputs": [
    {
     "name": "stdout",
     "output_type": "stream",
     "text": [
      "Please enter your name : haidfs\n",
      "X      | Y      \n",
      "-------|--------\n",
      "haidfs | Hello h\n"
     ]
    }
   ],
   "source": [
    "print((X==input('Please enter your name : ')) & (Y=='Hello ' + X[0]))"
   ]
  },
  {
   "cell_type": "code",
   "execution_count": 7,
   "metadata": {},
   "outputs": [
    {
     "name": "stdout",
     "output_type": "stream",
     "text": [
      "[]\n"
     ]
    }
   ],
   "source": [
    "#在第二个等式中，X被称为受第一个等式的约束，也就是说要在第一个等式给X一个值，才使得第二个等式中关于X的表达式（Y）有可能被估值。\n",
    "print((Y==1) & (Y==X+1))"
   ]
  },
  {
   "cell_type": "code",
   "execution_count": 8,
   "metadata": {},
   "outputs": [
    {
     "name": "stdout",
     "output_type": "stream",
     "text": [
      "X         | Y\n",
      "----------|--\n",
      "(1, 2, 3) | 3\n"
     ]
    }
   ],
   "source": [
    "#变量也可以表示（嵌套的）元组，它们可以参与表达式并被切片（0为基）。\n",
    "print((X==(1,2)+(3,)) & (Y==X[2]))"
   ]
  },
  {
   "cell_type": "code",
   "execution_count": 9,
   "metadata": {},
   "outputs": [
    {
     "name": "stdout",
     "output_type": "stream",
     "text": [
      "X | Y\n",
      "--|--\n",
      "1 | 2\n"
     ]
    }
   ],
   "source": [
    "#要在逻辑表达式中使用自己的函数，请在Python中定义它们，然后在pyDatalog为它们创建逻辑术语：\n",
    "def twice(a):\n",
    "    return a+a\n",
    "\n",
    "pyDatalog.create_terms('twice')\n",
    "print((X==1) & (Y==twice(X)))"
   ]
  },
  {
   "cell_type": "code",
   "execution_count": 10,
   "metadata": {},
   "outputs": [
    {
     "name": "stdout",
     "output_type": "stream",
     "text": [
      "X | Y                 \n",
      "--|-------------------\n",
      "2 | 1.4142135623730951\n"
     ]
    }
   ],
   "source": [
    "#同样，pyDatalog变量可以传递给Python标准库中的函数：\n",
    "import math\n",
    "pyDatalog.create_terms('math')\n",
    "print((X==2) & (Y==math.sqrt(X)))"
   ]
  },
  {
   "cell_type": "code",
   "execution_count": 11,
   "metadata": {},
   "outputs": [
    {
     "name": "stdout",
     "output_type": "stream",
     "text": [
      "X\n",
      "-\n",
      "4\n",
      "3\n",
      "2\n",
      "1\n",
      "0\n"
     ]
    }
   ],
   "source": [
    "#循环可以通过使用.in_() 方法创建 （我们将在以后看到还有其他方法可以创建循环）： \n",
    "#【注：这里没有使用==，但同样执行了一次查询，查询的结果存在X中】\n",
    "pyDatalog.create_terms('X,Y,Z')\n",
    "print(X.in_((0,1,2,3,4)))"
   ]
  },
  {
   "cell_type": "code",
   "execution_count": 12,
   "metadata": {},
   "outputs": [
    {
     "name": "stdout",
     "output_type": "stream",
     "text": [
      "[(4,), (3,), (2,), (1,), (0,)]\n",
      "True\n"
     ]
    }
   ],
   "source": [
    "print(X.in_(range(5)).data)\n",
    "print(X.in_(range(5)) == set([(0,), (1,), (2,), (3,), (4,)]))"
   ]
  },
  {
   "cell_type": "code",
   "execution_count": 13,
   "metadata": {},
   "outputs": [
    {
     "name": "stdout",
     "output_type": "stream",
     "text": [
      "Data :  [4, 3, 2, 1, 0]\n",
      "First value :  4\n",
      "Extraction of first value of X:  4\n"
     ]
    }
   ],
   "source": [
    "print(\"Data : \",X.data)\n",
    "print(\"First value : \",  X.v())\n",
    "# below, '>=' is a variable extraction operator\n",
    "print(\"Extraction of first value of X: \", X.in_(range(5)) >= X)"
   ]
  },
  {
   "cell_type": "code",
   "execution_count": 14,
   "metadata": {},
   "outputs": [
    {
     "name": "stdout",
     "output_type": "stream",
     "text": [
      "X\n",
      "-\n",
      "1\n",
      "0\n"
     ]
    }
   ],
   "source": [
    "print(X.in_(range(5))& (X<2))"
   ]
  },
  {
   "cell_type": "code",
   "execution_count": 15,
   "metadata": {},
   "outputs": [
    {
     "name": "stdout",
     "output_type": "stream",
     "text": [
      "X | Y | Z\n",
      "--|---|--\n",
      "2 | 0 | 2\n",
      "1 | 1 | 2\n",
      "1 | 0 | 1\n",
      "0 | 2 | 2\n",
      "0 | 1 | 1\n",
      "0 | 0 | 0\n"
     ]
    }
   ],
   "source": [
    "#循环嵌套，使用缩进以提高可读性\n",
    "print(X.in_(range(5)) &\n",
    "          Y.in_(range(5)) &\n",
    "              (Z==X+Y) &\n",
    "              (Z<3))"
   ]
  },
  {
   "cell_type": "markdown",
   "metadata": {},
   "source": [
    "## 逻辑函数与字典"
   ]
  },
  {
   "cell_type": "code",
   "execution_count": 16,
   "metadata": {},
   "outputs": [
    {
     "name": "stdout",
     "output_type": "stream",
     "text": [
      "X   | Y  \n",
      "----|----\n",
      "bar | 110\n",
      "foo | 60 \n",
      "{'bar': 110, 'foo': 60}\n"
     ]
    }
   ],
   "source": [
    "pyDatalog.create_terms('X,Y,Z, salary, tax_rate, tax_rate_for_salary_above, net_salary')\n",
    "salary['foo'] = 60\n",
    "salary['bar'] = 110\n",
    "print(salary[X]==Y)\n",
    "print({X.data[i]:Y.data[i] for i in range(len(X.data))})        #【真正转化为字典的写法】"
   ]
  },
  {
   "cell_type": "code",
   "execution_count": 17,
   "metadata": {},
   "outputs": [
    {
     "name": "stdout",
     "output_type": "stream",
     "text": [
      "X   | Y  \n",
      "----|----\n",
      "bar | 110\n",
      "foo | 60 \n",
      "dict_items([('foo', 60), ('bar', 110)])\n"
     ]
    }
   ],
   "source": [
    "salary['foo'] = 60\n",
    "salary['bar'] = 110\n",
    "\n",
    "# Python equivalent\n",
    "_salary = dict()\n",
    "_salary['foo'] = 60\n",
    "_salary['bar'] = 110\n",
    "# give me all the X and Y so that the salary of X is Y\n",
    "print(salary[X]==Y)\n",
    "print\n",
    "# python equivalent\n",
    "print(_salary.items())"
   ]
  },
  {
   "cell_type": "code",
   "execution_count": 18,
   "metadata": {},
   "outputs": [
    {
     "name": "stdout",
     "output_type": "stream",
     "text": [
      "Y \n",
      "--\n",
      "70\n"
     ]
    },
    {
     "data": {
      "text/plain": [
       "<function print>"
      ]
     },
     "execution_count": 18,
     "metadata": {},
     "output_type": "execute_result"
    }
   ],
   "source": [
    "#一个函数对于给定的参数具备唯一值，\n",
    "salary['foo'] = 70\n",
    "print(salary['foo']==Y)\n",
    "print"
   ]
  },
  {
   "cell_type": "code",
   "execution_count": 19,
   "metadata": {},
   "outputs": [
    {
     "name": "stdout",
     "output_type": "stream",
     "text": [
      "foo --> 70\n"
     ]
    }
   ],
   "source": [
    "# Python equivalent\n",
    "_salary['foo'] = 70\n",
    "print('foo --> ' + str(_salary['foo']))"
   ]
  },
  {
   "cell_type": "code",
   "execution_count": 20,
   "metadata": {},
   "outputs": [
    {
     "name": "stdout",
     "output_type": "stream",
     "text": [
      "X  \n",
      "---\n",
      "bar\n",
      "X   | Y \n",
      "----|---\n",
      "foo | 70\n"
     ]
    }
   ],
   "source": [
    "#一个函数也可以使用键来进行查询\n",
    "print(salary[X]==110)\n",
    "#查询可以测试一个标准的否定\n",
    "print((salary[X]==Y) & ~(Y==110))"
   ]
  },
  {
   "cell_type": "code",
   "execution_count": 21,
   "metadata": {},
   "outputs": [
    {
     "name": "stdout",
     "output_type": "stream",
     "text": [
      "X   | Z                \n",
      "----|------------------\n",
      "bar | 73.69999999999999\n",
      "foo | 46.89999999999999\n"
     ]
    }
   ],
   "source": [
    "#定义全球税率\n",
    "+(tax_rate[None]==0.33)\n",
    "# 一个函数可以在公式中调用：\n",
    "# give me the net salary for all X\n",
    "print((Z==salary[X]*(1-tax_rate[None])))"
   ]
  },
  {
   "cell_type": "code",
   "execution_count": 22,
   "metadata": {},
   "outputs": [
    {
     "name": "stdout",
     "output_type": "stream",
     "text": [
      "X   | Y                \n",
      "----|------------------\n",
      "bar | 73.69999999999999\n",
      "foo | 46.89999999999999\n"
     ]
    }
   ],
   "source": [
    "#一个函数可以由一个子句定义，以下是一个简单的例子\n",
    "# the net salary of X is Y if Y is the salary of X, reduced by the tax rate\n",
    "net_salary[X] = salary[X]*(1-tax_rate[None])\n",
    "print(net_salary[X]==Y)"
   ]
  },
  {
   "cell_type": "code",
   "execution_count": 23,
   "metadata": {},
   "outputs": [
    {
     "name": "stdout",
     "output_type": "stream",
     "text": [
      "Y   \n",
      "----\n",
      "0.33\n",
      "Y  \n",
      "---\n",
      "0.5\n"
     ]
    }
   ],
   "source": [
    "(tax_rate_for_salary_above[X] == 0.33) <= (0 <= X)\n",
    "(tax_rate_for_salary_above[X] == 0.50) <= (100 <= X)\n",
    "print(tax_rate_for_salary_above[70]==Y)\n",
    "print(tax_rate_for_salary_above[150]==Y)"
   ]
  },
  {
   "cell_type": "markdown",
   "metadata": {},
   "source": [
    "## 这里第一次出现了推理"
   ]
  },
  {
   "cell_type": "code",
   "execution_count": 24,
   "metadata": {},
   "outputs": [
    {
     "name": "stdout",
     "output_type": "stream",
     "text": [
      "X   | Y                \n",
      "----|------------------\n",
      "bar | 55.0             \n",
      "foo | 46.89999999999999\n"
     ]
    }
   ],
   "source": [
    "#\"<=\"是上述陈述中的重要标志：它被读作'if'。【可以用来定义“推出”的规则】\n",
    "#请注意，我们在上面使用的f[X]=，是(f[X]==Y) <= (Y==expr)的简写。\n",
    "#这个简短的表示法以及可以按任意顺序定义函数的事实，使得编写pyDatalog程序像创建电子表格一样简单。\n",
    "del net_salary[X]\n",
    "net_salary[X] = salary[X]*(1-tax_rate_for_salary_above[salary[X]])\n",
    "print(net_salary[X]==Y)"
   ]
  },
  {
   "cell_type": "markdown",
   "metadata": {},
   "source": [
    "## 聚合函数"
   ]
  },
  {
   "cell_type": "code",
   "execution_count": 25,
   "metadata": {},
   "outputs": [],
   "source": [
    "from pyDatalog import pyDatalog\n",
    "pyDatalog.create_terms('X,Y,manager, count_of_direct_reports')\n",
    "# the manager of Mary is John\n",
    "+(manager['Mary'] == 'John')\n",
    "+(manager['Sam']  == 'Mary')\n",
    "+(manager['Tom']  == 'Mary')"
   ]
  },
  {
   "cell_type": "markdown",
   "metadata": {},
   "source": [
    "## 字面值与集合"
   ]
  },
  {
   "cell_type": "code",
   "execution_count": 26,
   "metadata": {},
   "outputs": [],
   "source": [
    "from pyDatalog import pyDatalog\n",
    "pyDatalog.create_terms('X,Y,Z, works_in, department_size, manager, indirect_manager, count_of_indirect_reports')\n",
    "# Mary works in Production\n",
    "+ works_in('Mary', 'Production')\n",
    "+ works_in('Sam',  'Marketing')"
   ]
  },
  {
   "cell_type": "code",
   "execution_count": 27,
   "metadata": {},
   "outputs": [
    {
     "name": "stdout",
     "output_type": "stream",
     "text": [
      "X   \n",
      "----\n",
      "John\n",
      "Sam \n"
     ]
    }
   ],
   "source": [
    "+ works_in('John', 'Production')\n",
    "+ works_in('John', 'Marketing')\n",
    "# give me all the X that work in Marketing\n",
    "print(works_in(X,  'Marketing'))"
   ]
  },
  {
   "cell_type": "code",
   "execution_count": 28,
   "metadata": {},
   "outputs": [
    {
     "name": "stdout",
     "output_type": "stream",
     "text": [
      "X   \n",
      "----\n",
      "Mary\n",
      "John\n"
     ]
    }
   ],
   "source": [
    "# one of the indirect manager of X is Y, if the (direct) manager of X is Y\n",
    "indirect_manager(X,Y) <= (manager[X] == Y)\n",
    "# another indirect manager of X is Y, if there is a Z so that the manager of X is Z, \n",
    "#   and an indirect manager of Z is Y\n",
    "indirect_manager(X,Y) <= (manager[X] == Z) & indirect_manager(Z,Y)\n",
    "print(indirect_manager('Sam',X))"
   ]
  },
  {
   "cell_type": "markdown",
   "metadata": {},
   "source": [
    "## 树、图与递归算法"
   ]
  },
  {
   "cell_type": "code",
   "execution_count": 29,
   "metadata": {},
   "outputs": [],
   "source": [
    "pyDatalog.create_terms('link, can_reach')\n",
    "# there is a link between node 1 and node 2\n",
    "+link(1,2)\n",
    "+link(2,3)\n",
    "+link(2,4)\n",
    "+link(2,5)\n",
    "+link(5,6)\n",
    "+link(6,7)\n",
    "+link(7,2)"
   ]
  },
  {
   "cell_type": "code",
   "execution_count": 30,
   "metadata": {},
   "outputs": [
    {
     "data": {
      "text/plain": [
       "link(X,Y) <= link(Y,X)"
      ]
     },
     "execution_count": 30,
     "metadata": {},
     "output_type": "execute_result"
    }
   ],
   "source": [
    "# 无向图，边双向连接\n",
    "link(X,Y) <= link(Y,X)"
   ]
  },
  {
   "cell_type": "code",
   "execution_count": 31,
   "metadata": {},
   "outputs": [
    {
     "name": "stdout",
     "output_type": "stream",
     "text": [
      "Y\n",
      "-\n",
      "2\n",
      "6\n",
      "7\n",
      "4\n",
      "3\n",
      "5\n"
     ]
    }
   ],
   "source": [
    "# can Y be reached from X ?\n",
    "can_reach(X,Y) <= link(X,Y) # direct link\n",
    "# via Z\n",
    "can_reach(X,Y) <= link(X,Z) & can_reach(Z,Y) & (X!=Y)\n",
    "\n",
    "print (can_reach(1,Y))"
   ]
  },
  {
   "cell_type": "markdown",
   "metadata": {},
   "source": [
    "## 八皇后问题 "
   ]
  },
  {
   "cell_type": "code",
   "execution_count": 32,
   "metadata": {},
   "outputs": [
    {
     "data": {
      "text/plain": [
       "ok(X1,N,X2) <= !=(X1,X2)&!=(X1,(X2+N))&!=(X1,(X2-N"
      ]
     },
     "execution_count": 32,
     "metadata": {},
     "output_type": "execute_result"
    }
   ],
   "source": [
    "from pyDatalog import pyDatalog\n",
    "pyDatalog.create_terms('N,X0,X1,X2,X3,X4,X5,X6,X7')\n",
    "pyDatalog.create_terms('ok,queens,next_queen')\n",
    "\n",
    "# the queen in the first column can be in any row\n",
    "queens(X0)                      <= (X0._in(range(8)))\n",
    "\n",
    "# to find the queens in the first 2 columns, find the first one first, then find a second one\n",
    "queens(X0,X1)                   <= queens(X0)                   & next_queen(X0,X1)\n",
    "\n",
    "# repeat for the following queens\n",
    "queens(X0,X1,X2)                <= queens(X0,X1)                & next_queen(X0,X1,X2)\n",
    "queens(X0,X1,X2,X3)             <= queens(X0,X1,X2)             & next_queen(X0,X1,X2,X3)\n",
    "queens(X0,X1,X2,X3,X4)          <= queens(X0,X1,X2,X3)          & next_queen(X0,X1,X2,X3,X4)\n",
    "queens(X0,X1,X2,X3,X4,X5)       <= queens(X0,X1,X2,X3,X4)       & next_queen(X0,X1,X2,X3,X4,X5)\n",
    "queens(X0,X1,X2,X3,X4,X5,X6)    <= queens(X0,X1,X2,X3,X4,X5)    & next_queen(X0,X1,X2,X3,X4,X5,X6)\n",
    "queens(X0,X1,X2,X3,X4,X5,X6,X7) <= queens(X0,X1,X2,X3,X4,X5,X6) & next_queen(X0,X1,X2,X3,X4,X5,X6,X7)\n",
    "\n",
    "# the second queen can be in any row, provided it is compatible with the first one\n",
    "next_queen(X0,X1)                   <= queens(X1)                       & ok(X0,1,X1)\n",
    "\n",
    "# to find the third queen, first find a queen compatible with the second one, then with the first\n",
    "# re-use the previous clause for maximum speed, thanks to memoization\n",
    "next_queen(X0,X1,X2)                <= next_queen(X1,X2)                & ok(X0,2,X2)\n",
    "\n",
    "# repeat for all queens\n",
    "next_queen(X0,X1,X2,X3)             <= next_queen(X1,X2,X3)             & ok(X0,3,X3)\n",
    "next_queen(X0,X1,X2,X3,X4)          <= next_queen(X1,X2,X3,X4)          & ok(X0,4,X4)\n",
    "next_queen(X0,X1,X2,X3,X4,X5)       <= next_queen(X1,X2,X3,X4,X5)       & ok(X0,5,X5)\n",
    "next_queen(X0,X1,X2,X3,X4,X5,X6)    <= next_queen(X1,X2,X3,X4,X5,X6)    & ok(X0,6,X6)\n",
    "next_queen(X0,X1,X2,X3,X4,X5,X6,X7) <= next_queen(X1,X2,X3,X4,X5,X6,X7) & ok(X0,7,X7)\n",
    "\n",
    "# it's ok to have one queen in row X1 and another in row X2 if they are separated by N columns\n",
    "ok(X1, N, X2) <= (X1 != X2) & (X1 != X2+N) & (X1 != X2-N)"
   ]
  },
  {
   "cell_type": "code",
   "execution_count": 33,
   "metadata": {},
   "outputs": [
    {
     "name": "stdout",
     "output_type": "stream",
     "text": [
      "(7, 3, 0, 2, 5, 1, 6, 4)\n"
     ]
    }
   ],
   "source": [
    "# give me one solution to the 8-queen puzzle\n",
    "print(queens(X0,X1,X2,X3,X4,X5,X6,X7).data[0])"
   ]
  },
  {
   "cell_type": "code",
   "execution_count": null,
   "metadata": {},
   "outputs": [],
   "source": []
  }
 ],
 "metadata": {
  "kernelspec": {
   "display_name": "Python 3",
   "language": "python",
   "name": "python3"
  },
  "language_info": {
   "codemirror_mode": {
    "name": "ipython",
    "version": 3
   },
   "file_extension": ".py",
   "mimetype": "text/x-python",
   "name": "python",
   "nbconvert_exporter": "python",
   "pygments_lexer": "ipython3",
   "version": "3.6.5"
  }
 },
 "nbformat": 4,
 "nbformat_minor": 2
}
